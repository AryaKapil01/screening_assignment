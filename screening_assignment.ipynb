{
 "cells": [
  {
   "cell_type": "code",
   "execution_count": 4,
   "id": "93027c3b",
   "metadata": {},
   "outputs": [],
   "source": [
    "import logging"
   ]
  },
  {
   "cell_type": "code",
   "execution_count": 5,
   "id": "4f8bbad8",
   "metadata": {},
   "outputs": [],
   "source": [
    "logging.basicConfig(filename=\"example1.log\",level=logging.DEBUG,format='%(asctime)s%(message)s%(levelname)s')"
   ]
  },
  {
   "cell_type": "code",
   "execution_count": null,
   "id": "674146d4",
   "metadata": {},
   "outputs": [],
   "source": [
    "\"\"\"1. Create a function in python to read the text file and replace specific content\n",
    "of the file.\n",
    "File name :example.txt\n",
    "Origin file content: This is a placement assignment\n",
    "Replace string: Placement should be replaced by\n",
    "screening.\n",
    "Replaced file content: This is a screening assignment\"\"\""
   ]
  },
  {
   "cell_type": "code",
   "execution_count": 6,
   "id": "15b7f1ec",
   "metadata": {},
   "outputs": [],
   "source": [
    "def replace_fun():\n",
    "    \"\"\"This is a function to replace specific content of a file\"\"\"\n",
    "    try:\n",
    "        f=open(\"example.txt\",\"w\")\n",
    "        logging.info(\"file open executed successfully\")\n",
    "        f.write(\"this is placement assignment\")\n",
    "        logging.info(\"file write operation successful\")\n",
    "        f.close()\n",
    "    except Exception as e:\n",
    "        logging.error(\"Error occured\")\n",
    "        logging.exception(\"Exception occured\"+str(e))\n",
    "    else:\n",
    "        try:\n",
    "            f=open(\"example.txt\",\"r+\")\n",
    "            filedata=f.read()\n",
    "            logging.info(\"file read successful\")\n",
    "            filedata=filedata.replace(\"placement\",\"screening\")\n",
    "            f.seek(0)\n",
    "            f.write(filedata)\n",
    "            f.close()\n",
    "            logging.info(\"Content replacement successful\")\n",
    "        except Exception as e:\n",
    "            logging.ERROR(\"Error occured\")\n",
    "        finally:\n",
    "            f=open(\"example.txt\",\"r+\")\n",
    "            data=f.read()\n",
    "            logging.info(\"Process completed\")\n",
    "            return data\n",
    "        "
   ]
  },
  {
   "cell_type": "code",
   "execution_count": 7,
   "id": "5b53425e",
   "metadata": {},
   "outputs": [
    {
     "data": {
      "text/plain": [
       "'this is screening assignment'"
      ]
     },
     "execution_count": 7,
     "metadata": {},
     "output_type": "execute_result"
    }
   ],
   "source": [
    "replace_fun()"
   ]
  },
  {
   "cell_type": "code",
   "execution_count": null,
   "id": "139951f3",
   "metadata": {},
   "outputs": [],
   "source": [
    "#2. Demonstrate use of abstract class, multiple inheritance and decorator in python using examples."
   ]
  },
  {
   "cell_type": "code",
   "execution_count": null,
   "id": "a33405be",
   "metadata": {},
   "outputs": [],
   "source": [
    "Abstract class:\n",
    "    It is mainly considered as a blue print, because while we are designing large functional units ,we use abstract \n",
    "class as a blue print for eassiness of doing and understanding of work.Then it provide a common interface for \n",
    "different implimentation of components.It allow you to create a set of methods that must be created within any\n",
    "child classes built from the abstract class. A class which contain one or more abstract method is called abstract \n",
    "class.An abstract method is a method that has a declaration , but does not have an implimentation.Overall abstract \n",
    "class gives better understanding overall implimentation process.\n",
    "\n",
    "Eg for abstact class:\n",
    "    \n",
    "    class dataabstaction_project:\n",
    "        def validate_filenames(self):\n",
    "            pass\n",
    "        def read_file(self):\n",
    "            pass\n",
    "        def validate_datatype(self):\n",
    "            pass\n",
    "        def validate_db_connection(self):\n",
    "            pass\n",
    "        def create_connection(self):\n",
    "            pass\n",
    "        def insert_data(self):\n",
    "            pass\n",
    "        def completion_stataus(self):\n",
    "            pass\n",
    "        \n",
    "        \n",
    "\n",
    "    "
   ]
  },
  {
   "cell_type": "code",
   "execution_count": null,
   "id": "d359f976",
   "metadata": {},
   "outputs": [],
   "source": [
    "#Multiple Inheritance\n",
    "\n",
    "      Inheritance means some charactors of parents is trasfered to child . Just like human inheritance in the case of\n",
    "class, some properties of parent class is inherited to child class.In the case of multiple inheritance, properties of\n",
    "multiple parents inherited to a single child class.That is, if  P1,P2 are parent classes ,then C is the child class.\n",
    "Then properties of P1 and P2 we can use in child class C. That is in multiple inheritance child class is drived \n",
    "from more than one parent class.\n"
   ]
  },
  {
   "cell_type": "code",
   "execution_count": 10,
   "id": "0c10aabf",
   "metadata": {},
   "outputs": [
    {
     "data": {
      "text/plain": [
       "6"
      ]
     },
     "execution_count": 10,
     "metadata": {},
     "output_type": "execute_result"
    }
   ],
   "source": [
    "#Example for multiple inheritance\n",
    "class rectangle_area:\n",
    "    def __init__(self,l,b):\n",
    "        self.l=l\n",
    "        self.b=b\n",
    "    def area_rectangle(self):\n",
    "        return ((self.l)*(self.b))\n",
    "    \n",
    "class circle_area:\n",
    "    def __init__(self,r):\n",
    "        self.r=r\n",
    "    def area_circle(self):\n",
    "        return(3.14*((self.r)**2))\n",
    "    \n",
    "class area(rectangle_area,circle_area):\n",
    "    pass\n",
    "n=area(3,2)\n",
    "n.area_rectangle()\n",
    "#In the above exaple functions of both parent class we can use with child class object\n",
    "        \n",
    "        \n",
    "        "
   ]
  },
  {
   "cell_type": "code",
   "execution_count": null,
   "id": "3ea68e72",
   "metadata": {},
   "outputs": [],
   "source": [
    "#Decorator\n",
    "\n",
    "\n",
    "        Decorators are very powerfull and usefull tool in python, since it allows programers to modify the behaviour\n",
    "of a function or class . Decorator allow us to wrap another inorder to extented the behaviour of wrapped function,\n",
    "without permenently modifying it."
   ]
  },
  {
   "cell_type": "code",
   "execution_count": 11,
   "id": "5ee88bd5",
   "metadata": {},
   "outputs": [
    {
     "name": "stdout",
     "output_type": "stream",
     "text": [
      "this is product1\n",
      "this is high quality product\n"
     ]
    }
   ],
   "source": [
    "#Example for decorator\n",
    "\n",
    "def test(func):\n",
    "    def sub_test():\n",
    "        print(\"this is product1\")\n",
    "        func()\n",
    "    return sub_test()\n",
    "\n",
    "\n",
    "@test\n",
    "def xyz():\n",
    "    print(\"this is high quality product\")\n",
    "    "
   ]
  },
  {
   "cell_type": "code",
   "execution_count": null,
   "id": "46499e04",
   "metadata": {},
   "outputs": [],
   "source": [
    "In the above function test is the decorator funcion. At the top of xyz function we call the decorator function test.\n",
    "@test is the way of calling decorator fuction.During this calling process name of that function (xyz),is  automaticlly\n",
    "passed as an argument to decorator function (test).That is here calling a function inside a function is happens \n",
    "along with that passing the name of a fucion as an argument.As stated above decorators are use to modify the behaviour\n",
    "of a funcion or class."
   ]
  }
 ],
 "metadata": {
  "kernelspec": {
   "display_name": "Python 3 (ipykernel)",
   "language": "python",
   "name": "python3"
  },
  "language_info": {
   "codemirror_mode": {
    "name": "ipython",
    "version": 3
   },
   "file_extension": ".py",
   "mimetype": "text/x-python",
   "name": "python",
   "nbconvert_exporter": "python",
   "pygments_lexer": "ipython3",
   "version": "3.9.7"
  }
 },
 "nbformat": 4,
 "nbformat_minor": 5
}
